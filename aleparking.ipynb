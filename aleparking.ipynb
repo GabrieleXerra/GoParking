{
 "cells": [
  {
   "cell_type": "code",
   "execution_count": 46,
   "metadata": {},
   "outputs": [],
   "source": [
    "parking = {\n",
    "    \n",
    "}"
   ]
  },
  {
   "cell_type": "code",
   "execution_count": 47,
   "metadata": {},
   "outputs": [],
   "source": [
    "##vogliamo softw che: accetti auto all'ingresso\n",
    "#prendendo targa e orario ingresso \n",
    "#indica il piano (tutte le panda vanno al 5 piano fino a riempimento)\n",
    "#chiede il brand\n",
    "\n",
    "#lascia uscire la macchina:\n",
    "#calcola totale dovuto fino a ora completa\n",
    "#aggiorna il database\n"
   ]
  },
  {
   "cell_type": "code",
   "execution_count": 48,
   "metadata": {},
   "outputs": [],
   "source": [
    "from datetime import datetime"
   ]
  },
  {
   "cell_type": "markdown",
   "metadata": {},
   "source": [
    "# GoParking\n",
    "### Goditi la città, noi pensiamo al resto\n",
    "Vogliamo un software che:\n",
    "- accetti auto **all'ingresso**\n",
    "    - prende la targa\n",
    "    - l'orario d'ingresso\n",
    "    - chieda il brand\n",
    "    - indichi un piano (tutte le panda vanno al 5° piano fino a riempimento)\n",
    "- **lasci uscire** la macchina\n",
    "    - calcola il totale dovuto fino ad ora completata\n",
    "- **aggiorni** il suo 'Database'"
   ]
  },
  {
   "cell_type": "code",
   "execution_count": 49,
   "metadata": {},
   "outputs": [],
   "source": [
    "parking = {\n",
    "    '1': {'max_capacity':20, 'cars_in': 7, 'price_per_hour': 2.5, 'brands':'all'},\n",
    "    '2': {'max_capacity':15, 'cars_in': 4, 'price_per_hour': 3.0, 'brands':'all'},\n",
    "    '3': {'max_capacity':10, 'cars_in': 2, 'price_per_hour': 4.0, 'brands':'all'},\n",
    "    '4': {'max_capacity':25, 'cars_in': 10, 'price_per_hour': 1.5, 'brands':'all'},\n",
    "    '5': {'max_capacity':20, 'cars_in': 15, 'price_per_hour': 7.0 , 'brands':'panda 4x4'},\n",
    "}"
   ]
  },
  {
   "cell_type": "code",
   "execution_count": 50,
   "metadata": {},
   "outputs": [],
   "source": [
    "cars = {'CA385NN': {'ingresso':  datetime.strptime('14:40', \"%H:%M\"), 'piano': '1'},\n",
    "        'CA123NN': {'ingresso':  datetime.strptime('14:50', \"%H:%M\"), 'piano': '2'},\n",
    "        'CA456NN': {'ingresso':  datetime.strptime('14:55', \"%H:%M\"), 'piano': '3'},\n",
    "        'CA789NN': {'ingresso':  datetime.strptime('15:00', \"%H:%M\"), 'piano': '4'},\n",
    "        'CA101NN': {'ingresso':  datetime.strptime('15:05', \"%H:%M\"), 'piano': '5'},\n",
    "        'CA112NN': {'ingresso':  datetime.strptime('15:10', \"%H:%M\"), 'piano': '1'},\n",
    "        'CA123NN': {'ingresso':  datetime.strptime('15:15', \"%H:%M\"), 'piano': '2'},\n",
    "        'CA456NN': {'ingresso':  datetime.strptime('15:25', \"%H:%M\"), 'piano': '3'},\n",
    "        'CA789NN': {'ingresso':  datetime.strptime('15:30', \"%H:%M\"), 'piano': '4'},\n",
    "        'CA101NN': {'ingresso':  datetime.strptime('15:35', \"%H:%M\"), 'piano': '5'}\n",
    "}"
   ]
  },
  {
   "cell_type": "code",
   "execution_count": 51,
   "metadata": {},
   "outputs": [],
   "source": [
    "level_order = ['3','2','1','4']\n"
   ]
  },
  {
   "cell_type": "code",
   "execution_count": 52,
   "metadata": {},
   "outputs": [],
   "source": [
    "def check_level_availability(level):\n",
    "    return parking[level]['max_capacity'] - parking[level]['cars_in'] > 0 "
   ]
  },
  {
   "cell_type": "code",
   "execution_count": 53,
   "metadata": {},
   "outputs": [],
   "source": [
    "def availability():\n",
    "    for level in parking:\n",
    "       if check_level_availability(level): \n",
    "           return True \n",
    "           "
   ]
  },
  {
   "cell_type": "code",
   "execution_count": 54,
   "metadata": {},
   "outputs": [],
   "source": [
    "def make_question(question, accepted_answers = ['y','n','q']):\n",
    "    answer = input(question)\n",
    "    if not answer in accepted_answers:\n",
    "        print('Non accettata la risposta')\n",
    "        answer = make_question(question, accepted_answers)\n",
    "    return answer \n",
    "\n"
   ]
  },
  {
   "cell_type": "code",
   "execution_count": null,
   "metadata": {},
   "outputs": [],
   "source": [
    "def suggest_level(panda_answer):\n",
    "    if panda_answer == 'y' and check_level_availability('5'):\n",
    "        return '5'\n",
    "    else:\n",
    "        for l in level_order:\n",
    "            if check_level_availability(l):\n",
    "                return l \n"
   ]
  },
  {
   "cell_type": "code",
   "execution_count": 66,
   "metadata": {},
   "outputs": [],
   "source": [
    "def get_plate():\n",
    "    plate = input('inserisci targa')\n",
    "    if plate[:2].isalpha() and plate[2:5].isdigit() and plate[-2:].isalpha():\n",
    "        return plate.upper()\n",
    "    return get_plate()"
   ]
  },
  {
   "cell_type": "code",
   "execution_count": null,
   "metadata": {},
   "outputs": [],
   "source": [
    "r = get_plate()\n",
    "print(r)"
   ]
  },
  {
   "cell_type": "code",
   "execution_count": 68,
   "metadata": {},
   "outputs": [],
   "source": [
    "def get_time():\n",
    "    return datetime.now()"
   ]
  },
  {
   "cell_type": "code",
   "execution_count": null,
   "metadata": {},
   "outputs": [],
   "source": [
    "def add_to_plates(plate, entry_time, level):\n",
    "    cars[plate] = {'ingresso' : entry_time, 'piano' : level}"
   ]
  },
  {
   "cell_type": "code",
   "execution_count": null,
   "metadata": {},
   "outputs": [],
   "source": [
    "answer = make_question('Stai entrando?')\n",
    "if answer == 'y' and availability():\n",
    "      answer = make_question('Hai una panda?')\n",
    "      level = suggest_level(answer)\n",
    "      print(level)   \n",
    "      plate = get_plate()     \n",
    "      time = get_time()\n",
    "      add_to_plates(plate = plate, entry_time = time, level = level)\n",
    "         \n",
    "         \n"
   ]
  }
 ],
 "metadata": {
  "kernelspec": {
   "display_name": "Python 3",
   "language": "python",
   "name": "python3"
  },
  "language_info": {
   "codemirror_mode": {
    "name": "ipython",
    "version": 3
   },
   "file_extension": ".py",
   "mimetype": "text/x-python",
   "name": "python",
   "nbconvert_exporter": "python",
   "pygments_lexer": "ipython3",
   "version": "3.13.0"
  }
 },
 "nbformat": 4,
 "nbformat_minor": 2
}
